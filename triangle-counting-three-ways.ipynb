{
  "cells": [
    {
      "cell_type": "markdown",
      "metadata": {
        "id": "view-in-github",
        "colab_type": "text"
      },
      "source": [
        "<a href=\"https://colab.research.google.com/github/nli830855/OMSA/blob/main/triangle-counting-three-ways.ipynb\" target=\"_parent\"><img src=\"https://colab.research.google.com/assets/colab-badge.svg\" alt=\"Open In Colab\"/></a>"
      ]
    },
    {
      "cell_type": "code",
      "source": [
        "!wget https://github.com/gt-cse-6040/skills_oh_week_08/raw/main/im.db"
      ],
      "metadata": {
        "id": "JSL_NY2zH_9Y"
      },
      "execution_count": null,
      "outputs": []
    },
    {
      "cell_type": "code",
      "source": [],
      "metadata": {
        "id": "39WHbG0Va8Vi"
      },
      "execution_count": null,
      "outputs": []
    },
    {
      "cell_type": "code",
      "execution_count": null,
      "metadata": {
        "collapsed": true,
        "id": "UpMPWSdwHwZY"
      },
      "outputs": [],
      "source": [
        "# Startup code\n",
        "from sqlite3 import connect\n",
        "from pandas import read_sql_query\n",
        "from IPython.display import Markdown\n",
        "\n",
        "t_start__ = 0\n",
        "def start_timer():\n",
        "    from time import time\n",
        "    global t_start__\n",
        "    t_start__ = time()\n",
        "    return 0\n",
        "\n",
        "def elapsed(t_elapsed=0):\n",
        "    from time import time\n",
        "    assert t_start__ > 0, \"Did you start the timer yet?\"\n",
        "    t_elapsed += time() - t_start__\n",
        "    return t_elapsed\n",
        "\n",
        "def stop_timer(t_elapsed=0):\n",
        "    t_elapsed = elapsed(t_elapsed)\n",
        "    t_start__ = 0\n",
        "    return t_elapsed"
      ]
    },
    {
      "cell_type": "markdown",
      "metadata": {
        "id": "8bYzg0LsHwZb"
      },
      "source": [
        "# Triangle counting, three-ways #\n",
        "\n",
        "There are some deeper differences and connections between the \"[three ways](https://www.npr.org/sections/thesalt/2013/08/12/211408192/three-ways-cooking-has-changed-over-the-last-300-years)\" you've worked with [_relational data:_](https://www.seas.upenn.edu/~zives/03f/cis550/codd.pdf) SQL, pandas, and (for sparse network/graph data) Numpy/Scipy (sparse) matrices."
      ]
    },
    {
      "cell_type": "markdown",
      "metadata": {
        "id": "0JClS66fHwZd"
      },
      "source": [
        "Recall that a _relational database_ organizes data into tables, where rows are like \"data points\" or \"data items\" and columns are \"attributes\" or \"features.\" A table is also called a _relation._\n",
        "\n",
        "For example, here is a table of customers:\n",
        "\n",
        " | cust_id | name  | dob        | income    |\n",
        " |:-------:|:-----:|:----------:|:---------:|\n",
        " | 123     | alice | 06/01/1974 |  \\$84,000 |\n",
        " | 852     | bob   | 03/18/2001 |  \\$35,500 |\n",
        " | 1048    | carol | 11/24/1990 | \\$127,000 |\n",
        "\n",
        "Two tables or relations may be \"linked\" by common columns. You might maintain a table of purchases where rows hold items purchased and one of the columns is a customer ID, which matches the ID from the table of customers.  "
      ]
    },
    {
      "cell_type": "markdown",
      "metadata": {
        "id": "5kJzWPOkHwZd"
      },
      "source": [
        "_Query languages_ help manipulate, transform, and summarize information from one or more tables. For instance, here is how you might find the average income of all customers who purchased a certain kind of item in SQL and pandas:\n",
        "\n",
        "```sql\n",
        "-- SQL:\n",
        "SELECT AVG(Customers.income) AS avg_inc\n",
        "    FROM Customers, Purchases\n",
        "    WHERE Purchases.sku = '12QJ581LX'\n",
        "          AND Customers.cust_id = Purchases.cust_id\n",
        "    GROUP BY Customers.cust_id\n",
        "```\n",
        "\n",
        "```python\n",
        "# pandas:\n",
        "item_purchases = purchases[purchase['sku'] == '12QJ581LX']\n",
        "results = customers.merge(purchases_for_item, on='cust_id')\\\n",
        "                   .groupby('cust_id')['income'].mean()\n",
        "```"
      ]
    },
    {
      "cell_type": "markdown",
      "metadata": {
        "id": "LwVhuKmIHwZd"
      },
      "source": [
        "## Declarative vs. imperative languages ##\n",
        "\n",
        "Although they have similar functionality, SQL and pandas can be _very_ different!\n",
        "\n",
        "* SQL is _declarative:_ your code says what the output should look like but lets SQL decide _how_ to produce that result;\n",
        "* pandas is _imperative:_ you decide what steps to take to produce a desired result.\n",
        "\n",
        "Let's see how with a concrete example: counting triangles in a social network."
      ]
    },
    {
      "cell_type": "markdown",
      "metadata": {
        "id": "M8q50FX6HwZe"
      },
      "source": [
        "## Example: Triangle counting ##\n",
        "\n",
        "Suppose we are analyzing the structure of communities in a social network. Such structures can help make recommendations or fight the flow of misinformation, for instance. An example of a structure is a _triangle,_ which is a set of three people or entities that are mutually linked. The following graph has two triangles: (0, 1, 3) and (0, 3, 5).\n",
        "\n",
        "![Triangle sample](https://github.com/gt-cse-6040/skills_oh_week_08/blob/main/graph.png?raw=1)"
      ]
    },
    {
      "cell_type": "markdown",
      "metadata": {
        "id": "I4g8u2FDHwZe"
      },
      "source": [
        "## Triangles in the Internet Movie Database (IMDB) ##\n",
        "\n",
        "As an example, suppose we want to count the total number of triangles in the network of Hollywood actors, where two actors are linked if they co-starred in a movie together.\n",
        "\n",
        "Here is some data from IMDB, the [Internet Movie Database](https://imdb.com). It's stored in a SQLite database with three tables, one for _movies,_ one for _actors,_ and one for _casts_ (a cast is the list of actors who starred in a movie)."
      ]
    },
    {
      "cell_type": "code",
      "execution_count": null,
      "metadata": {
        "collapsed": true,
        "id": "7iRYP9-7HwZe"
      },
      "outputs": [],
      "source": [
        "# Database of casts in the Top 250 movies (circa 2015?)\n",
        "imdb = connect('im.db')\n",
        "imdb_cur = imdb.cursor()"
      ]
    },
    {
      "cell_type": "code",
      "execution_count": null,
      "metadata": {
        "id": "fCCnsztLHwZe"
      },
      "outputs": [],
      "source": [
        "read_sql_query('SELECT * FROM Movies LIMIT 3', imdb)"
      ]
    },
    {
      "cell_type": "code",
      "execution_count": null,
      "metadata": {
        "id": "K0jICVNRHwZf"
      },
      "outputs": [],
      "source": [
        "read_sql_query('SELECT * FROM Actors LIMIT 3', imdb)"
      ]
    },
    {
      "cell_type": "code",
      "execution_count": null,
      "metadata": {
        "id": "c3p3NlcrHwZf"
      },
      "outputs": [],
      "source": [
        "read_sql_query('SELECT * FROM Casts LIMIT 3', imdb)"
      ]
    },
    {
      "cell_type": "markdown",
      "metadata": {
        "id": "fVUwTtfLHwZf"
      },
      "source": [
        "## Method 0: Counting triangles using SQL ##\n",
        "\n",
        "Since the data reside natively in a SQL database, let's use SQL queries to count the triangles."
      ]
    },
    {
      "cell_type": "markdown",
      "metadata": {
        "id": "czgJArSJHwZf"
      },
      "source": [
        "First, observe that a triangle exists if actors $a$ and $b$ are co-stars, $b$ and $c$ are co-stars, and $a$ and $c$ are co-stars."
      ]
    },
    {
      "cell_type": "markdown",
      "metadata": {
        "id": "7JfXLAtEHwZf"
      },
      "source": [
        "So let's start by **tabulating pairs** of actors who co-starred in any movie together. We can do that by joining the `Casts` table with itself, matching pairs of _distinct_ actors who appeared in the same movie."
      ]
    },
    {
      "cell_type": "code",
      "execution_count": null,
      "metadata": {
        "id": "OTiTAmCUHwZf"
      },
      "outputs": [],
      "source": [
        "# Recall: `Casts` table\n",
        "read_sql_query('SELECT * FROM Casts LIMIT 3', imdb)"
      ]
    },
    {
      "cell_type": "code",
      "execution_count": null,
      "metadata": {
        "collapsed": true,
        "id": "rfZNMMSzHwZg"
      },
      "outputs": [],
      "source": [
        "t_make_costars = start_timer()"
      ]
    },
    {
      "cell_type": "code",
      "execution_count": null,
      "metadata": {
        "collapsed": true,
        "id": "t6YABX83HwZg"
      },
      "outputs": [],
      "source": [
        "query_make_pairs = r'''\n",
        "CREATE VIEW Costars AS\n",
        "    SELECT X.actor_id AS a, Y.actor_id AS b\n",
        "      FROM Casts AS X, Casts AS Y\n",
        "     WHERE (X.movie_id = Y.movie_id) AND (X.actor_id <> Y.actor_id)\n",
        "  GROUP BY X.actor_id, Y.actor_id'''"
      ]
    },
    {
      "cell_type": "markdown",
      "metadata": {
        "id": "ORqd0WkFHwZg"
      },
      "source": [
        "(This code constructs pairs $(a, b)$ such that $a \\neq b$.)"
      ]
    },
    {
      "cell_type": "code",
      "execution_count": null,
      "metadata": {
        "id": "TvuqpjV8HwZg"
      },
      "outputs": [],
      "source": [
        "imdb_cur.execute('DROP VIEW IF EXISTS Costars')\n",
        "imdb_cur.execute(query_make_pairs)"
      ]
    },
    {
      "cell_type": "code",
      "execution_count": null,
      "metadata": {
        "collapsed": true,
        "id": "uZYjTmiqHwZg"
      },
      "outputs": [],
      "source": [
        "t_make_costars = stop_timer(t_make_costars)"
      ]
    },
    {
      "cell_type": "code",
      "execution_count": null,
      "metadata": {
        "id": "FJRVY7e_HwZg"
      },
      "outputs": [],
      "source": [
        "display(read_sql_query('SELECT * FROM Costars LIMIT 3', imdb))"
      ]
    },
    {
      "cell_type": "markdown",
      "metadata": {
        "id": "dStDA7K2HwZg"
      },
      "source": [
        "And by the way, it's not a small number of co-star pairs..."
      ]
    },
    {
      "cell_type": "code",
      "execution_count": null,
      "metadata": {
        "id": "rFhUIvz8HwZg"
      },
      "outputs": [],
      "source": [
        "display(read_sql_query('SELECT COUNT(*) AS num_movies FROM Movies', imdb))\n",
        "display(read_sql_query('SELECT PRINTF(\"%,d\", COUNT(*)) AS num_actors FROM Actors', imdb))\n",
        "display(read_sql_query('SELECT PRINTF(\"%,d\", COUNT(*)) AS num_costar_pairs FROM Costars', imdb))\n",
        "print(f\"==> Time to construct `Costars` table: {t_make_costars:.3f} sec\")"
      ]
    },
    {
      "cell_type": "markdown",
      "metadata": {
        "id": "C_P7OGbQHwZh"
      },
      "source": [
        "**Counting triangles.** A triangle $(a, b, c)$ exists if $(a, b)$, $(b, c)$, and $(c, a)$ are all valid co-star pairs."
      ]
    },
    {
      "cell_type": "markdown",
      "metadata": {
        "id": "29glgyC0HwZh"
      },
      "source": [
        "Suppose we write down every such triple, $(a, b, c)$. The number of triangles is the number of such triples _divided by 6_ because there are $3! = 6$ different combinations of $(a, b, c)$, like $(c, b, a)$ or $(a, c, b)$, that can appear."
      ]
    },
    {
      "cell_type": "code",
      "execution_count": null,
      "metadata": {
        "collapsed": true,
        "id": "IVkruoVhHwZh"
      },
      "outputs": [],
      "source": [
        "t_sql = start_timer()"
      ]
    },
    {
      "cell_type": "code",
      "execution_count": null,
      "metadata": {
        "collapsed": true,
        "id": "1DCL5Ym2HwZh"
      },
      "outputs": [],
      "source": [
        "query_triangles = r'''SELECT COUNT(*) / 6 AS num_triangles\n",
        "                        FROM Costars AS X, Costars AS Y, Costars AS Z\n",
        "                       WHERE (X.b = Y.a) AND (Y.b = Z.a) AND (X.a = Z.b)'''"
      ]
    },
    {
      "cell_type": "code",
      "execution_count": null,
      "metadata": {
        "collapsed": true,
        "id": "qDrp5_KDHwZh"
      },
      "outputs": [],
      "source": [
        "sql_tricount_df = read_sql_query(query_triangles, imdb)"
      ]
    },
    {
      "cell_type": "code",
      "execution_count": null,
      "metadata": {
        "collapsed": true,
        "id": "jUV7HEZ-HwZh"
      },
      "outputs": [],
      "source": [
        "t_sql = stop_timer(t_sql)"
      ]
    },
    {
      "cell_type": "code",
      "execution_count": null,
      "metadata": {
        "id": "KNuxLyqnHwZh"
      },
      "outputs": [],
      "source": [
        "display(sql_tricount_df)\n",
        "print(f\"==> SQL method found {sql_tricount_df['num_triangles'].loc[0]:,} triangles in {t_sql:.3f} sec\")"
      ]
    },
    {
      "cell_type": "markdown",
      "metadata": {
        "id": "CuZXup9cHwZh"
      },
      "source": [
        "This query is **declarative.**\n",
        "\n",
        "```sql\n",
        "SELECT COUNT(*) / 6 AS num_triangles\n",
        "  FROM Costars AS X, Costars AS Y, Costars AS Z\n",
        " WHERE (X.b = Y.a) AND (Y.b = Z.a) AND (X.a = Z.b)\n",
        "```\n",
        "\n",
        "We don't tell the computer what steps to perform or in what order. Instead, we specify the form of the result (the `SELECT` columns) and express the _properties_ that the result should have (the `WHERE` subclause). We assume the computer can figure out exactly how to loop over the data efficient to compute the final results."
      ]
    },
    {
      "cell_type": "markdown",
      "metadata": {
        "id": "kNe9xe3oHwZh"
      },
      "source": [
        "## Method 1: Pandas ##\n",
        "\n",
        "We can do the same calculation in pandas, of course. But the big difference is that we need to tell the computer _how_ to do the query, meaning what state to create or change and exactly what steps to take.\n",
        "\n",
        "This style of programming is referred to as being _imperative._"
      ]
    },
    {
      "cell_type": "markdown",
      "metadata": {
        "id": "S22doQStHwZh"
      },
      "source": [
        "Let's start with the co-stars table, extracted as a pandas dataframe."
      ]
    },
    {
      "cell_type": "code",
      "execution_count": null,
      "metadata": {
        "id": "aLSuMpOyHwZh"
      },
      "outputs": [],
      "source": [
        "costars_df = read_sql_query('SELECT * FROM Costars', imdb)\n",
        "costars_df.head()"
      ]
    },
    {
      "cell_type": "markdown",
      "metadata": {
        "id": "aai-LXVUHwZh"
      },
      "source": [
        "The SQL query joined this table with itself:\n",
        "\n",
        "```sql\n",
        "SELECT COUNT(*) / 6 AS num_triangles\n",
        "  FROM Costars AS X, Costars AS Y, Costars AS Z\n",
        " WHERE (X.b = Y.a) AND (Y.b = Z.a) AND (X.a = Z.b)\n",
        "```"
      ]
    },
    {
      "cell_type": "code",
      "execution_count": null,
      "metadata": {
        "collapsed": true,
        "id": "HIQhQYwTHwZh"
      },
      "outputs": [],
      "source": [
        "t_pd = start_timer()"
      ]
    },
    {
      "cell_type": "markdown",
      "metadata": {
        "id": "Fe6wgassHwZi"
      },
      "source": [
        "What's a pandas analogue? Recall that a triangle means the links $(a, b)$, $(b, c)$, and $(a, c)$ exist."
      ]
    },
    {
      "cell_type": "code",
      "execution_count": null,
      "metadata": {
        "collapsed": true,
        "id": "bEl1ORH7HwZi"
      },
      "outputs": [],
      "source": [
        "# Like SQL's `SELECT ... FROM Costars AS X, Costars AS Y, Costars AS Z`\n",
        "X = costars_df\n",
        "Y = costars_df.rename(columns={'a': 'b', 'b': 'c'})\n",
        "Z = costars_df.rename(columns={'a': 'c', 'b': 'a'})"
      ]
    },
    {
      "cell_type": "code",
      "execution_count": null,
      "metadata": {
        "collapsed": true,
        "id": "LicvOg6VHwZi"
      },
      "outputs": [],
      "source": [
        "t_pd = stop_timer()"
      ]
    },
    {
      "cell_type": "code",
      "execution_count": null,
      "metadata": {
        "id": "voO55aRTHwZi"
      },
      "outputs": [],
      "source": [
        "display(X.head(3))\n",
        "display(Y.head(3))\n",
        "display(Z.head(3))"
      ]
    },
    {
      "cell_type": "code",
      "execution_count": null,
      "metadata": {
        "collapsed": true,
        "id": "JyHSVWxdHwZi"
      },
      "outputs": [],
      "source": [
        "def display_XYZ():\n",
        "    display(Markdown(f\"\"\"\n",
        "<table>\n",
        "<tr><th> <tt>X</tt> </th><th> <tt>Y</tt> </th><th> <tt>Z</tt> </th></tr>\n",
        "<tr><td>\n",
        "\n",
        "{X.head(3).to_markdown(index=False)}\n",
        "\n",
        "</td><td>\n",
        "\n",
        "{Y.head(3).to_markdown(index=False)}\n",
        "\n",
        "</td><td>\n",
        "\n",
        "{Z.head(3).to_markdown(index=False)}\n",
        "\n",
        "</td></tr> </table>\n",
        "\"\"\"))"
      ]
    },
    {
      "cell_type": "code",
      "execution_count": null,
      "metadata": {
        "id": "ypYx_RNUHwZi"
      },
      "outputs": [],
      "source": [
        "display_XYZ()"
      ]
    },
    {
      "cell_type": "code",
      "execution_count": null,
      "metadata": {
        "id": "0asNbN7kHwZi"
      },
      "outputs": [],
      "source": [
        "print(f\"Time to construct `X`, `Y`, and `Z` ({len(X):,} rows): {t_pd:.3f} sec\")"
      ]
    },
    {
      "cell_type": "code",
      "execution_count": null,
      "metadata": {
        "id": "zJt1k2J1HwZi"
      },
      "outputs": [],
      "source": [
        "start_timer()"
      ]
    },
    {
      "cell_type": "code",
      "execution_count": null,
      "metadata": {
        "id": "VOmA0ThMHwZi"
      },
      "outputs": [],
      "source": [
        "XY = X.merge(Y, on='b')\n",
        "XYZ = XY.merge(Z, on=['a', 'c'])"
      ]
    },
    {
      "cell_type": "code",
      "execution_count": null,
      "metadata": {
        "collapsed": true,
        "id": "NSgsk9LJHwZi"
      },
      "outputs": [],
      "source": [
        "t_pd = stop_timer(t_pd)"
      ]
    },
    {
      "cell_type": "code",
      "execution_count": null,
      "metadata": {
        "collapsed": true,
        "scrolled": true,
        "id": "LxAr3eO5HwZi"
      },
      "outputs": [],
      "source": [
        "print(f\"==> The Pandas implementation found {int(len(XYZ)/6):,} triangles in {t_pd:.3f} sec\")\n",
        "XYZ.head()"
      ]
    },
    {
      "cell_type": "markdown",
      "metadata": {
        "id": "0VABYC4fHwZi"
      },
      "source": [
        "Compare the core parts of the SQL and pandas implementations:\n",
        "\n",
        "```sql\n",
        "-- SQL:\n",
        "SELECT COUNT(*) / 6 AS num_triangles\n",
        "  FROM Costars AS X, Costars AS Y, Costars AS Z\n",
        " WHERE (X.b = Y.a) AND (Y.b = Z.a) AND (X.a = Z.b)\n",
        "```\n",
        "\n",
        "```python\n",
        "## pandas:\n",
        "XY = X.merge(Y, on='b')\n",
        "XYZ = XY.merge(Z, on=['a', 'c'])\n",
        "```"
      ]
    },
    {
      "cell_type": "markdown",
      "metadata": {
        "id": "wEmoT9HsHwZi"
      },
      "source": [
        "There is an important but subtle distinction: in the pandas version, you are limited to expressing binary (two-dataframe) merges. Therefore, since you need to combine three dataframes, _you_ had to choose which two to merge first. It doesn't make much difference in this case, but it could in others."
      ]
    },
    {
      "cell_type": "markdown",
      "metadata": {
        "id": "ceY_aMDbHwZi"
      },
      "source": [
        "## Method 2: Linear algebra + Numpy/Scipy ##\n",
        "\n",
        "Both of the previous methods are fairly slow. We can do better by thinking harder about the calculation we are doing and _changing the representation._\n",
        "\n",
        "And picking the right representation is a major theme in computational problem-solving."
      ]
    },
    {
      "cell_type": "markdown",
      "metadata": {
        "id": "8DJd0U4rHwZj"
      },
      "source": [
        "In this case, recall that a _sparse matrix_ can be a natural way to represent a (sparse) network or graph. Let's build an \"actor-by-actor\" matrix, $G$, where each entry $g_{a,b}$ is 1 if actors $a$ and $b$ co-starred together, and 0 otherwise."
      ]
    },
    {
      "cell_type": "markdown",
      "metadata": {
        "id": "FAVGFRftHwZj"
      },
      "source": [
        "This matrix is _symmetric_, meaning $G = G^T$, since $g_{a, b} = g_{b, a}$."
      ]
    },
    {
      "cell_type": "markdown",
      "metadata": {
        "id": "8fFo2N62HwZj"
      },
      "source": [
        "Furthermore, a triangle can only exist when $g_{a,b} \\cdot g_{b,c} \\cdot g_{c, a} \\neq 0$, which happens when none of the factors is 0."
      ]
    },
    {
      "cell_type": "markdown",
      "metadata": {
        "id": "1U5THwMtHwZj"
      },
      "source": [
        "Thus, the total number of triangles is just\n",
        "\n",
        "$$\\mbox{(no. of triangles)} = \\frac{1}{6} \\sum_{a, b, c} g_{a,b} \\cdot g_{b,c} \\cdot g_{c, a}.$$"
      ]
    },
    {
      "cell_type": "markdown",
      "metadata": {
        "id": "LB6uWytKHwZj"
      },
      "source": [
        "Rewriting:\n",
        "\n",
        "$$\n",
        "\\ldots = \\frac{1}{6} \\sum_{a, c} g_{c, a} \\cdot \\left( \\sum_{b} g_{a, b} \\cdot g_{b, c} \\right).\n",
        "$$\n",
        "\n",
        "Do you recognize these pieces?"
      ]
    },
    {
      "cell_type": "markdown",
      "metadata": {
        "id": "EIEab9xpHwZj"
      },
      "source": [
        "Let $ h_{a, c} \\equiv \\sum_{b} g_{a, b} \\cdot g_{b, c}$.\n",
        "\n",
        "Then that's a **matrix multiplication:** each $h_{a,c}$ is an entry of $H = G \\cdot G$."
      ]
    },
    {
      "cell_type": "markdown",
      "metadata": {
        "id": "95hHMPfBHwZj"
      },
      "source": [
        "$$\n",
        "\\ldots = \\frac{1}{6} \\sum_{a, c} g_{c, a} \\cdot h_{a, c}.\n",
        "$$"
      ]
    },
    {
      "cell_type": "markdown",
      "metadata": {
        "id": "puvjKjHUHwZj"
      },
      "source": [
        "$$\n",
        "\\ldots = \\frac{1}{6} \\sum_{a, c} g_{c, a} \\cdot h_{a, c} \\qquad (\\mbox{with }h_{a,c}\\mbox{ from } H = G \\cdot G)\n",
        "$$"
      ]
    },
    {
      "cell_type": "markdown",
      "metadata": {
        "id": "qLBY72DWHwZj"
      },
      "source": [
        "And since $G$ is symmetric, $g_{c,a} = g_{a,c}$, then $g_{c,a} \\cdot h_{a,c} = g_{a,c} \\cdot h_{a,c}$, which is nothing more than an **elementwise multiplication**, which we will denote by $G * H$."
      ]
    },
    {
      "cell_type": "markdown",
      "metadata": {
        "id": "K2sXlSFOHwZj"
      },
      "source": [
        "Putting it all together:\n",
        "\n",
        "$$\n",
        "\\mbox{(no. of triangles)} = \\frac{1}{6} \\sum_{a,c} \\Bigl[ G * (G \\cdot G) \\Bigr]_{a,c}.\n",
        "$$\n",
        "\n",
        "That is, construct the sparse matrix $G$, then evaluate the matrix $G * (G \\cdot G)$, and finally sum all of its elements (dividing by six)."
      ]
    },
    {
      "cell_type": "markdown",
      "metadata": {
        "id": "xLF-j1jVHwZj"
      },
      "source": [
        "Let's implement it!"
      ]
    },
    {
      "cell_type": "code",
      "execution_count": null,
      "metadata": {
        "collapsed": true,
        "id": "aclVM7RmHwZj"
      },
      "outputs": [],
      "source": [
        "from scipy.sparse import coo_matrix\n",
        "from matplotlib.pyplot import figure, spy, title\n",
        "from numpy import ones"
      ]
    },
    {
      "cell_type": "code",
      "execution_count": null,
      "metadata": {
        "collapsed": true,
        "id": "wPPCOZz_HwZj"
      },
      "outputs": [],
      "source": [
        "t_np = start_timer()"
      ]
    },
    {
      "cell_type": "markdown",
      "metadata": {
        "id": "xlow5puYHwZj"
      },
      "source": [
        "Recall:"
      ]
    },
    {
      "cell_type": "code",
      "execution_count": null,
      "metadata": {
        "collapsed": true,
        "id": "YiHgvhA6HwZj"
      },
      "outputs": [],
      "source": [
        "costars_df.head()"
      ]
    },
    {
      "cell_type": "code",
      "execution_count": null,
      "metadata": {
        "collapsed": true,
        "id": "3t4yxJPwHwZj"
      },
      "outputs": [],
      "source": [
        "vals = ones(len(costars_df))  # Build coordinate representation\n",
        "rows = costars_df['a'].values\n",
        "cols = costars_df['b'].values\n",
        "\n",
        "G = coo_matrix((vals, (rows, cols))).tocsr() # CSR will be faster later"
      ]
    },
    {
      "cell_type": "code",
      "execution_count": null,
      "metadata": {
        "collapsed": true,
        "id": "LoleHSWvHwZj"
      },
      "outputs": [],
      "source": [
        "t_np = stop_timer(t_np)"
      ]
    },
    {
      "cell_type": "code",
      "execution_count": null,
      "metadata": {
        "collapsed": true,
        "id": "UCcGPdNTHwZk"
      },
      "outputs": [],
      "source": [
        "print(f\"==> Matrix construction took: {t_np:.3f} sec\")"
      ]
    },
    {
      "cell_type": "code",
      "execution_count": null,
      "metadata": {
        "collapsed": true,
        "id": "yHrGjVGKHwZk"
      },
      "outputs": [],
      "source": [
        "display(G)\n",
        "spy(G[:2000, :2000], markersize=0.1)\n",
        "title('2000 x 2000 submatrix');"
      ]
    },
    {
      "cell_type": "code",
      "execution_count": null,
      "metadata": {
        "collapsed": true,
        "id": "zyHSnHNlHwZk"
      },
      "outputs": [],
      "source": [
        "start_timer();"
      ]
    },
    {
      "cell_type": "markdown",
      "metadata": {
        "id": "mD93bc9vHwZk"
      },
      "source": [
        "Recall: $\\mbox{(no. of triangles)} = \\frac{1}{6} \\sum_{a,c} \\bigl[ G * (G \\cdot G) \\bigr]_{a,c}$"
      ]
    },
    {
      "cell_type": "code",
      "execution_count": null,
      "metadata": {
        "collapsed": true,
        "id": "XaAs1eOFHwZk"
      },
      "outputs": [],
      "source": [
        "tri_count = int(G.multiply(G.dot(G)).sum()/6)"
      ]
    },
    {
      "cell_type": "code",
      "execution_count": null,
      "metadata": {
        "collapsed": true,
        "id": "qc0ATTojHwZk"
      },
      "outputs": [],
      "source": [
        "t_np = stop_timer(t_np)"
      ]
    },
    {
      "cell_type": "code",
      "execution_count": null,
      "metadata": {
        "collapsed": true,
        "id": "1moAqcM6HwZk"
      },
      "outputs": [],
      "source": [
        "print(f\"==> Numpy-based method found {tri_count:,} triangles in {t_np:.3f} sec\")"
      ]
    },
    {
      "cell_type": "markdown",
      "metadata": {
        "id": "qnsimmg7HwZk"
      },
      "source": [
        "## Summary ##\n",
        "\n",
        "The three main tools of Module 2—SQL, pandas, and Numpy/Scipy—gave us different ways to solve the same problem:\n",
        "\n",
        "- SQL gave us a _declarative_ method, where we say what we want, not how to get it;\n",
        "- pandas is _imperative_, giving us more control over _how_ to do the calculation;\n",
        "- and Numpy gave us _speed,_ in this special case where we could _transform_ the original problem into a linear algebraic form."
      ]
    },
    {
      "cell_type": "markdown",
      "metadata": {
        "id": "Ztf8DByOHwZk"
      },
      "source": [
        "One is not always better than another, but a good way to build your intuition for which tool might yield a simpler or faster result is to practice solving problems using both SQL and pandas (or, when specialization admits, a Numpy-style method)."
      ]
    },
    {
      "cell_type": "markdown",
      "metadata": {
        "id": "66F1Q_6IHwZk"
      },
      "source": [
        "## Clean-up ##"
      ]
    },
    {
      "cell_type": "code",
      "execution_count": null,
      "metadata": {
        "collapsed": true,
        "id": "JUgcufpUHwZk"
      },
      "outputs": [],
      "source": [
        "imdb.close()"
      ]
    }
  ],
  "metadata": {
    "celltoolbar": "Slideshow",
    "kernelspec": {
      "display_name": "Python 3 [3.7]",
      "language": "python",
      "name": "python3"
    },
    "language_info": {
      "codemirror_mode": {
        "name": "ipython",
        "version": 3
      },
      "file_extension": ".py",
      "mimetype": "text/x-python",
      "name": "python",
      "nbconvert_exporter": "python",
      "pygments_lexer": "ipython3",
      "version": "3.7.5"
    },
    "rise": {
      "enable_chalkboard": true,
      "scroll": true
    },
    "colab": {
      "provenance": [],
      "include_colab_link": true
    }
  },
  "nbformat": 4,
  "nbformat_minor": 0
}